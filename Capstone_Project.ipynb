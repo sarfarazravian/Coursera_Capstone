{
 "cells": [
  {
   "cell_type": "markdown",
   "metadata": {},
   "source": [
    "## This notebook will be used for Capstone Project"
   ]
  },
  {
   "cell_type": "code",
   "execution_count": 139,
   "metadata": {},
   "outputs": [],
   "source": [
    "import pandas as pd\n",
    "import numpy as np\n",
    "from numpy import nan\n",
    "from sklearn import preprocessing\n",
    "from sklearn.model_selection import train_test_split\n",
    "from sklearn.linear_model import LogisticRegression\n",
    "from sklearn.metrics import jaccard_similarity_score\n",
    "from sklearn.metrics import accuracy_score\n",
    "from sklearn.metrics import f1_score\n",
    "import matplotlib.pyplot as plt\n",
    "from sklearn import metrics\n",
    "from sklearn.tree import DecisionTreeClassifier"
   ]
  },
  {
   "cell_type": "code",
   "execution_count": 2,
   "metadata": {},
   "outputs": [
    {
     "name": "stdout",
     "output_type": "stream",
     "text": [
      "Hello capstone project course!\n"
     ]
    }
   ],
   "source": [
    "print(\"Hello capstone project course!\")"
   ]
  },
  {
   "cell_type": "markdown",
   "metadata": {},
   "source": [
    "### Read CSV file into dataframe"
   ]
  },
  {
   "cell_type": "code",
   "execution_count": 4,
   "metadata": {
    "scrolled": true
   },
   "outputs": [
    {
     "name": "stderr",
     "output_type": "stream",
     "text": [
      "C:\\Users\\sarfaraz.nawaz\\Anaconda3\\lib\\site-packages\\IPython\\core\\interactiveshell.py:3063: DtypeWarning: Columns (35) have mixed types.Specify dtype option on import or set low_memory=False.\n",
      "  interactivity=interactivity, compiler=compiler, result=result)\n"
     ]
    },
    {
     "data": {
      "text/html": [
       "<div>\n",
       "<style scoped>\n",
       "    .dataframe tbody tr th:only-of-type {\n",
       "        vertical-align: middle;\n",
       "    }\n",
       "\n",
       "    .dataframe tbody tr th {\n",
       "        vertical-align: top;\n",
       "    }\n",
       "\n",
       "    .dataframe thead th {\n",
       "        text-align: right;\n",
       "    }\n",
       "</style>\n",
       "<table border=\"1\" class=\"dataframe\">\n",
       "  <thead>\n",
       "    <tr style=\"text-align: right;\">\n",
       "      <th></th>\n",
       "      <th>X</th>\n",
       "      <th>Y</th>\n",
       "      <th>OBJECTID</th>\n",
       "      <th>INCKEY</th>\n",
       "      <th>COLDETKEY</th>\n",
       "      <th>REPORTNO</th>\n",
       "      <th>STATUS</th>\n",
       "      <th>ADDRTYPE</th>\n",
       "      <th>INTKEY</th>\n",
       "      <th>LOCATION</th>\n",
       "      <th>...</th>\n",
       "      <th>ROADCOND</th>\n",
       "      <th>LIGHTCOND</th>\n",
       "      <th>PEDROWNOTGRNT</th>\n",
       "      <th>SDOTCOLNUM</th>\n",
       "      <th>SPEEDING</th>\n",
       "      <th>ST_COLCODE</th>\n",
       "      <th>ST_COLDESC</th>\n",
       "      <th>SEGLANEKEY</th>\n",
       "      <th>CROSSWALKKEY</th>\n",
       "      <th>HITPARKEDCAR</th>\n",
       "    </tr>\n",
       "  </thead>\n",
       "  <tbody>\n",
       "    <tr>\n",
       "      <th>0</th>\n",
       "      <td>-122.344896</td>\n",
       "      <td>47.717173</td>\n",
       "      <td>1</td>\n",
       "      <td>1003</td>\n",
       "      <td>1003</td>\n",
       "      <td>3503158</td>\n",
       "      <td>Matched</td>\n",
       "      <td>Block</td>\n",
       "      <td>NaN</td>\n",
       "      <td>AURORA AVE N BETWEEN N 117TH PL AND N 125TH ST</td>\n",
       "      <td>...</td>\n",
       "      <td>Dry</td>\n",
       "      <td>Daylight</td>\n",
       "      <td>Y</td>\n",
       "      <td>NaN</td>\n",
       "      <td>NaN</td>\n",
       "      <td>45</td>\n",
       "      <td>Vehicle - Pedalcyclist</td>\n",
       "      <td>15057</td>\n",
       "      <td>0</td>\n",
       "      <td>N</td>\n",
       "    </tr>\n",
       "    <tr>\n",
       "      <th>1</th>\n",
       "      <td>-122.376467</td>\n",
       "      <td>47.543774</td>\n",
       "      <td>2</td>\n",
       "      <td>56200</td>\n",
       "      <td>56200</td>\n",
       "      <td>1795087</td>\n",
       "      <td>Matched</td>\n",
       "      <td>Block</td>\n",
       "      <td>NaN</td>\n",
       "      <td>35TH AVE SW BETWEEN SW MORGAN ST AND SW HOLLY ST</td>\n",
       "      <td>...</td>\n",
       "      <td>Dry</td>\n",
       "      <td>Dark - Street Lights On</td>\n",
       "      <td>NaN</td>\n",
       "      <td>6015003.0</td>\n",
       "      <td>NaN</td>\n",
       "      <td>0</td>\n",
       "      <td>Vehicle going straight hits pedestrian</td>\n",
       "      <td>0</td>\n",
       "      <td>0</td>\n",
       "      <td>N</td>\n",
       "    </tr>\n",
       "    <tr>\n",
       "      <th>2</th>\n",
       "      <td>-122.360735</td>\n",
       "      <td>47.701487</td>\n",
       "      <td>3</td>\n",
       "      <td>327037</td>\n",
       "      <td>328537</td>\n",
       "      <td>E979380</td>\n",
       "      <td>Matched</td>\n",
       "      <td>Intersection</td>\n",
       "      <td>37122.0</td>\n",
       "      <td>3RD AVE NW AND NW 100TH ST</td>\n",
       "      <td>...</td>\n",
       "      <td>Wet</td>\n",
       "      <td>Daylight</td>\n",
       "      <td>NaN</td>\n",
       "      <td>NaN</td>\n",
       "      <td>NaN</td>\n",
       "      <td>10</td>\n",
       "      <td>Entering at angle</td>\n",
       "      <td>0</td>\n",
       "      <td>0</td>\n",
       "      <td>N</td>\n",
       "    </tr>\n",
       "    <tr>\n",
       "      <th>3</th>\n",
       "      <td>-122.297415</td>\n",
       "      <td>47.599233</td>\n",
       "      <td>4</td>\n",
       "      <td>327278</td>\n",
       "      <td>328778</td>\n",
       "      <td>E996362</td>\n",
       "      <td>Unmatched</td>\n",
       "      <td>Intersection</td>\n",
       "      <td>30602.0</td>\n",
       "      <td>M L KING JR WAY S AND S JACKSON ST</td>\n",
       "      <td>...</td>\n",
       "      <td>NaN</td>\n",
       "      <td>NaN</td>\n",
       "      <td>NaN</td>\n",
       "      <td>NaN</td>\n",
       "      <td>NaN</td>\n",
       "      <td></td>\n",
       "      <td>NaN</td>\n",
       "      <td>0</td>\n",
       "      <td>0</td>\n",
       "      <td>N</td>\n",
       "    </tr>\n",
       "    <tr>\n",
       "      <th>4</th>\n",
       "      <td>-122.368001</td>\n",
       "      <td>47.653585</td>\n",
       "      <td>5</td>\n",
       "      <td>1248</td>\n",
       "      <td>1248</td>\n",
       "      <td>3645424</td>\n",
       "      <td>Unmatched</td>\n",
       "      <td>Block</td>\n",
       "      <td>NaN</td>\n",
       "      <td>W EWING ST BETWEEN 6TH AVE W AND W EWING PL</td>\n",
       "      <td>...</td>\n",
       "      <td>NaN</td>\n",
       "      <td>NaN</td>\n",
       "      <td>NaN</td>\n",
       "      <td>NaN</td>\n",
       "      <td>NaN</td>\n",
       "      <td></td>\n",
       "      <td>NaN</td>\n",
       "      <td>0</td>\n",
       "      <td>0</td>\n",
       "      <td>N</td>\n",
       "    </tr>\n",
       "  </tbody>\n",
       "</table>\n",
       "<p>5 rows × 40 columns</p>\n",
       "</div>"
      ],
      "text/plain": [
       "            X          Y  OBJECTID  INCKEY  COLDETKEY REPORTNO     STATUS  \\\n",
       "0 -122.344896  47.717173         1    1003       1003  3503158    Matched   \n",
       "1 -122.376467  47.543774         2   56200      56200  1795087    Matched   \n",
       "2 -122.360735  47.701487         3  327037     328537  E979380    Matched   \n",
       "3 -122.297415  47.599233         4  327278     328778  E996362  Unmatched   \n",
       "4 -122.368001  47.653585         5    1248       1248  3645424  Unmatched   \n",
       "\n",
       "       ADDRTYPE   INTKEY                                          LOCATION  \\\n",
       "0         Block      NaN    AURORA AVE N BETWEEN N 117TH PL AND N 125TH ST   \n",
       "1         Block      NaN  35TH AVE SW BETWEEN SW MORGAN ST AND SW HOLLY ST   \n",
       "2  Intersection  37122.0                        3RD AVE NW AND NW 100TH ST   \n",
       "3  Intersection  30602.0                M L KING JR WAY S AND S JACKSON ST   \n",
       "4         Block      NaN       W EWING ST BETWEEN 6TH AVE W AND W EWING PL   \n",
       "\n",
       "   ... ROADCOND                LIGHTCOND PEDROWNOTGRNT SDOTCOLNUM SPEEDING  \\\n",
       "0  ...      Dry                 Daylight             Y        NaN      NaN   \n",
       "1  ...      Dry  Dark - Street Lights On           NaN  6015003.0      NaN   \n",
       "2  ...      Wet                 Daylight           NaN        NaN      NaN   \n",
       "3  ...      NaN                      NaN           NaN        NaN      NaN   \n",
       "4  ...      NaN                      NaN           NaN        NaN      NaN   \n",
       "\n",
       "   ST_COLCODE                              ST_COLDESC  SEGLANEKEY  \\\n",
       "0          45                  Vehicle - Pedalcyclist       15057   \n",
       "1           0  Vehicle going straight hits pedestrian           0   \n",
       "2          10                       Entering at angle           0   \n",
       "3                                                 NaN           0   \n",
       "4                                                 NaN           0   \n",
       "\n",
       "   CROSSWALKKEY  HITPARKEDCAR  \n",
       "0             0             N  \n",
       "1             0             N  \n",
       "2             0             N  \n",
       "3             0             N  \n",
       "4             0             N  \n",
       "\n",
       "[5 rows x 40 columns]"
      ]
     },
     "execution_count": 4,
     "metadata": {},
     "output_type": "execute_result"
    }
   ],
   "source": [
    "df=pd.read_csv(\"http://data-seattlecitygis.opendata.arcgis.com/datasets/5b5c745e0f1f48e7a53acec63a0022ab_0.csv\")\n",
    "df.head()"
   ]
  },
  {
   "cell_type": "code",
   "execution_count": 5,
   "metadata": {},
   "outputs": [
    {
     "data": {
      "text/plain": [
       "(221525, 40)"
      ]
     },
     "execution_count": 5,
     "metadata": {},
     "output_type": "execute_result"
    }
   ],
   "source": [
    "df.shape"
   ]
  },
  {
   "cell_type": "markdown",
   "metadata": {},
   "source": [
    "### Filter out the required data set for use in modeling"
   ]
  },
  {
   "cell_type": "code",
   "execution_count": 79,
   "metadata": {
    "scrolled": true
   },
   "outputs": [
    {
     "data": {
      "text/html": [
       "<div>\n",
       "<style scoped>\n",
       "    .dataframe tbody tr th:only-of-type {\n",
       "        vertical-align: middle;\n",
       "    }\n",
       "\n",
       "    .dataframe tbody tr th {\n",
       "        vertical-align: top;\n",
       "    }\n",
       "\n",
       "    .dataframe thead th {\n",
       "        text-align: right;\n",
       "    }\n",
       "</style>\n",
       "<table border=\"1\" class=\"dataframe\">\n",
       "  <thead>\n",
       "    <tr style=\"text-align: right;\">\n",
       "      <th></th>\n",
       "      <th>SEVERITYCODE</th>\n",
       "      <th>WEATHER</th>\n",
       "      <th>ROADCOND</th>\n",
       "      <th>LIGHTCOND</th>\n",
       "      <th>JUNCTIONTYPE</th>\n",
       "    </tr>\n",
       "  </thead>\n",
       "  <tbody>\n",
       "    <tr>\n",
       "      <th>0</th>\n",
       "      <td>2</td>\n",
       "      <td>Clear</td>\n",
       "      <td>Dry</td>\n",
       "      <td>Daylight</td>\n",
       "      <td>Driveway Junction</td>\n",
       "    </tr>\n",
       "    <tr>\n",
       "      <th>1</th>\n",
       "      <td>2</td>\n",
       "      <td>Overcast</td>\n",
       "      <td>Dry</td>\n",
       "      <td>Dark - Street Lights On</td>\n",
       "      <td>Mid-Block (not related to intersection)</td>\n",
       "    </tr>\n",
       "    <tr>\n",
       "      <th>2</th>\n",
       "      <td>1</td>\n",
       "      <td>Overcast</td>\n",
       "      <td>Wet</td>\n",
       "      <td>Daylight</td>\n",
       "      <td>At Intersection (intersection related)</td>\n",
       "    </tr>\n",
       "    <tr>\n",
       "      <th>3</th>\n",
       "      <td>1</td>\n",
       "      <td>NaN</td>\n",
       "      <td>NaN</td>\n",
       "      <td>NaN</td>\n",
       "      <td>At Intersection (intersection related)</td>\n",
       "    </tr>\n",
       "    <tr>\n",
       "      <th>4</th>\n",
       "      <td>0</td>\n",
       "      <td>NaN</td>\n",
       "      <td>NaN</td>\n",
       "      <td>NaN</td>\n",
       "      <td>Mid-Block (not related to intersection)</td>\n",
       "    </tr>\n",
       "  </tbody>\n",
       "</table>\n",
       "</div>"
      ],
      "text/plain": [
       "  SEVERITYCODE   WEATHER ROADCOND                LIGHTCOND  \\\n",
       "0            2     Clear      Dry                 Daylight   \n",
       "1            2  Overcast      Dry  Dark - Street Lights On   \n",
       "2            1  Overcast      Wet                 Daylight   \n",
       "3            1       NaN      NaN                      NaN   \n",
       "4            0       NaN      NaN                      NaN   \n",
       "\n",
       "                              JUNCTIONTYPE  \n",
       "0                        Driveway Junction  \n",
       "1  Mid-Block (not related to intersection)  \n",
       "2   At Intersection (intersection related)  \n",
       "3   At Intersection (intersection related)  \n",
       "4  Mid-Block (not related to intersection)  "
      ]
     },
     "execution_count": 79,
     "metadata": {},
     "output_type": "execute_result"
    }
   ],
   "source": [
    "Accid_df=df[['SEVERITYCODE','WEATHER','ROADCOND','LIGHTCOND','JUNCTIONTYPE']]\n",
    "Accid_df.head()"
   ]
  },
  {
   "cell_type": "markdown",
   "metadata": {},
   "source": [
    "### We will remove null and unknown values from our data base"
   ]
  },
  {
   "cell_type": "code",
   "execution_count": 80,
   "metadata": {
    "scrolled": true
   },
   "outputs": [
    {
     "data": {
      "text/html": [
       "<div>\n",
       "<style scoped>\n",
       "    .dataframe tbody tr th:only-of-type {\n",
       "        vertical-align: middle;\n",
       "    }\n",
       "\n",
       "    .dataframe tbody tr th {\n",
       "        vertical-align: top;\n",
       "    }\n",
       "\n",
       "    .dataframe thead th {\n",
       "        text-align: right;\n",
       "    }\n",
       "</style>\n",
       "<table border=\"1\" class=\"dataframe\">\n",
       "  <thead>\n",
       "    <tr style=\"text-align: right;\">\n",
       "      <th></th>\n",
       "      <th>SEVERITYCODE</th>\n",
       "      <th>WEATHER</th>\n",
       "      <th>ROADCOND</th>\n",
       "      <th>LIGHTCOND</th>\n",
       "      <th>JUNCTIONTYPE</th>\n",
       "    </tr>\n",
       "  </thead>\n",
       "  <tbody>\n",
       "    <tr>\n",
       "      <th>0</th>\n",
       "      <td>2</td>\n",
       "      <td>Clear</td>\n",
       "      <td>Dry</td>\n",
       "      <td>Daylight</td>\n",
       "      <td>Driveway Junction</td>\n",
       "    </tr>\n",
       "    <tr>\n",
       "      <th>1</th>\n",
       "      <td>2</td>\n",
       "      <td>Overcast</td>\n",
       "      <td>Dry</td>\n",
       "      <td>Dark - Street Lights On</td>\n",
       "      <td>Mid-Block (not related to intersection)</td>\n",
       "    </tr>\n",
       "    <tr>\n",
       "      <th>2</th>\n",
       "      <td>1</td>\n",
       "      <td>Overcast</td>\n",
       "      <td>Wet</td>\n",
       "      <td>Daylight</td>\n",
       "      <td>At Intersection (intersection related)</td>\n",
       "    </tr>\n",
       "    <tr>\n",
       "      <th>5</th>\n",
       "      <td>2</td>\n",
       "      <td>Clear</td>\n",
       "      <td>Dry</td>\n",
       "      <td>Daylight</td>\n",
       "      <td>At Intersection (intersection related)</td>\n",
       "    </tr>\n",
       "    <tr>\n",
       "      <th>6</th>\n",
       "      <td>1</td>\n",
       "      <td>Clear</td>\n",
       "      <td>Dry</td>\n",
       "      <td>Daylight</td>\n",
       "      <td>At Intersection (intersection related)</td>\n",
       "    </tr>\n",
       "  </tbody>\n",
       "</table>\n",
       "</div>"
      ],
      "text/plain": [
       "  SEVERITYCODE   WEATHER ROADCOND                LIGHTCOND  \\\n",
       "0            2     Clear      Dry                 Daylight   \n",
       "1            2  Overcast      Dry  Dark - Street Lights On   \n",
       "2            1  Overcast      Wet                 Daylight   \n",
       "5            2     Clear      Dry                 Daylight   \n",
       "6            1     Clear      Dry                 Daylight   \n",
       "\n",
       "                              JUNCTIONTYPE  \n",
       "0                        Driveway Junction  \n",
       "1  Mid-Block (not related to intersection)  \n",
       "2   At Intersection (intersection related)  \n",
       "5   At Intersection (intersection related)  \n",
       "6   At Intersection (intersection related)  "
      ]
     },
     "execution_count": 80,
     "metadata": {},
     "output_type": "execute_result"
    }
   ],
   "source": [
    "Accid_df=Accid_df.replace(0, nan)\n",
    "Accid_df=Accid_df.replace('Unknown', nan)\n",
    "Accid_df=Accid_df.replace('Other', nan)\n",
    "Accid_df.dropna(axis=0,inplace=True)\n",
    "Accid_df.head()\n"
   ]
  },
  {
   "cell_type": "markdown",
   "metadata": {},
   "source": [
    "### We will remove rows having value of SeverityCode 0 and 3 since they are less than 0.5 percent of total data. I have used the same code for injuries instead of two seperate code since they belong to same category."
   ]
  },
  {
   "cell_type": "code",
   "execution_count": 81,
   "metadata": {},
   "outputs": [
    {
     "data": {
      "text/plain": [
       "1    113373\n",
       "2     59008\n",
       "Name: SEVERITYCODE, dtype: int64"
      ]
     },
     "execution_count": 81,
     "metadata": {},
     "output_type": "execute_result"
    }
   ],
   "source": [
    "delete_row=Accid_df[Accid_df['SEVERITYCODE']=='0'].index\n",
    "Accid_df.drop(delete_row,inplace=True)\n",
    "delete_row1=Accid_df[Accid_df['SEVERITYCODE']=='3'].index\n",
    "Accid_df.drop(delete_row1,inplace=True)\n",
    "Accid_df['SEVERITYCODE'].replace({'2b':'2'},inplace=True)\n",
    "Accid_df['SEVERITYCODE'].value_counts()"
   ]
  },
  {
   "cell_type": "code",
   "execution_count": 83,
   "metadata": {},
   "outputs": [
    {
     "data": {
      "text/plain": [
       "SEVERITYCODE     int64\n",
       "WEATHER         object\n",
       "ROADCOND        object\n",
       "LIGHTCOND       object\n",
       "JUNCTIONTYPE    object\n",
       "dtype: object"
      ]
     },
     "execution_count": 83,
     "metadata": {},
     "output_type": "execute_result"
    }
   ],
   "source": [
    "Accid_df['SEVERITYCODE']=pd.to_numeric(Accid_df['SEVERITYCODE'])\n",
    "Accid_df.dtypes"
   ]
  },
  {
   "cell_type": "markdown",
   "metadata": {},
   "source": [
    "### Overview of Severity w.r.t different factors"
   ]
  },
  {
   "cell_type": "code",
   "execution_count": 84,
   "metadata": {
    "scrolled": true
   },
   "outputs": [
    {
     "data": {
      "text/plain": [
       "<matplotlib.axes._subplots.AxesSubplot at 0x23019056e48>"
      ]
     },
     "execution_count": 84,
     "metadata": {},
     "output_type": "execute_result"
    },
    {
     "data": {
      "image/png": "[encoded data removed]",
      "text/plain": [
       "<Figure size 720x288 with 1 Axes>"
      ]
     },
     "metadata": {
      "needs_background": "light"
     },
     "output_type": "display_data"
    }
   ],
   "source": [
    "data_weather=Accid_df.groupby(['WEATHER'])['SEVERITYCODE'].value_counts()\n",
    "data_weather\n",
    "data_weather.plot.bar(figsize=(10,4),color='red')"
   ]
  },
  {
   "cell_type": "code",
   "execution_count": 85,
   "metadata": {
    "scrolled": true
   },
   "outputs": [
    {
     "data": {
      "text/plain": [
       "<matplotlib.axes._subplots.AxesSubplot at 0x23017d3ab08>"
      ]
     },
     "execution_count": 85,
     "metadata": {},
     "output_type": "execute_result"
    },
    {
     "data": {
      "image/png": "[encoded data removed]",
      "text/plain": [
       "<Figure size 720x288 with 1 Axes>"
      ]
     },
     "metadata": {
      "needs_background": "light"
     },
     "output_type": "display_data"
    }
   ],
   "source": [
    "data_roadcond=Accid_df.groupby(['ROADCOND'])['SEVERITYCODE'].value_counts()\n",
    "data_roadcond\n",
    "data_roadcond.plot.bar(figsize=(10,4), color='red')"
   ]
  },
  {
   "cell_type": "code",
   "execution_count": 86,
   "metadata": {},
   "outputs": [
    {
     "data": {
      "text/plain": [
       "<matplotlib.axes._subplots.AxesSubplot at 0x230181ecdc8>"
      ]
     },
     "execution_count": 86,
     "metadata": {},
     "output_type": "execute_result"
    },
    {
     "data": {
      "image/png": "[encoded data removed]",
      "text/plain": [
       "<Figure size 720x288 with 1 Axes>"
      ]
     },
     "metadata": {
      "needs_background": "light"
     },
     "output_type": "display_data"
    }
   ],
   "source": [
    "data_lightcond=Accid_df.groupby(['LIGHTCOND'])['SEVERITYCODE'].value_counts()\n",
    "data_lightcond\n",
    "data_lightcond.plot.bar(figsize=(10,4), color='red')"
   ]
  },
  {
   "cell_type": "code",
   "execution_count": 137,
   "metadata": {},
   "outputs": [
    {
     "data": {
      "text/plain": [
       "<matplotlib.axes._subplots.AxesSubplot at 0x23018297708>"
      ]
     },
     "execution_count": 137,
     "metadata": {},
     "output_type": "execute_result"
    },
    {
     "data": {
      "image/png": "[encoded data removed]",
      "text/plain": [
       "<Figure size 720x288 with 1 Axes>"
      ]
     },
     "metadata": {
      "needs_background": "light"
     },
     "output_type": "display_data"
    }
   ],
   "source": [
    "data_junctiontype=Accid_df.groupby(['JUNCTIONTYPE'])['SEVERITYCODE'].value_counts()\n",
    "data_junctiontype\n",
    "data_junctiontype.plot.bar(figsize=(10,4), color='red')"
   ]
  },
  {
   "cell_type": "markdown",
   "metadata": {},
   "source": [
    "### Applying one-hot encoding for algorithms to work efficiently"
   ]
  },
  {
   "cell_type": "code",
   "execution_count": 124,
   "metadata": {},
   "outputs": [
    {
     "data": {
      "text/html": [
       "<div>\n",
       "<style scoped>\n",
       "    .dataframe tbody tr th:only-of-type {\n",
       "        vertical-align: middle;\n",
       "    }\n",
       "\n",
       "    .dataframe tbody tr th {\n",
       "        vertical-align: top;\n",
       "    }\n",
       "\n",
       "    .dataframe thead th {\n",
       "        text-align: right;\n",
       "    }\n",
       "</style>\n",
       "<table border=\"1\" class=\"dataframe\">\n",
       "  <thead>\n",
       "    <tr style=\"text-align: right;\">\n",
       "      <th></th>\n",
       "      <th>SEVERITYCODE</th>\n",
       "      <th>Blowing Sand/Dirt</th>\n",
       "      <th>Clear</th>\n",
       "      <th>Fog/Smog/Smoke</th>\n",
       "      <th>Overcast</th>\n",
       "      <th>Partly Cloudy</th>\n",
       "      <th>Raining</th>\n",
       "      <th>Severe Crosswind</th>\n",
       "      <th>Sleet/Hail/Freezing Rain</th>\n",
       "      <th>Snowing</th>\n",
       "      <th>...</th>\n",
       "      <th>Dark - Unknown Lighting</th>\n",
       "      <th>Dawn</th>\n",
       "      <th>Daylight</th>\n",
       "      <th>Dusk</th>\n",
       "      <th>At Intersection (but not related to intersection)</th>\n",
       "      <th>At Intersection (intersection related)</th>\n",
       "      <th>Driveway Junction</th>\n",
       "      <th>Mid-Block (but intersection related)</th>\n",
       "      <th>Mid-Block (not related to intersection)</th>\n",
       "      <th>Ramp Junction</th>\n",
       "    </tr>\n",
       "  </thead>\n",
       "  <tbody>\n",
       "    <tr>\n",
       "      <th>0</th>\n",
       "      <td>2</td>\n",
       "      <td>0</td>\n",
       "      <td>1</td>\n",
       "      <td>0</td>\n",
       "      <td>0</td>\n",
       "      <td>0</td>\n",
       "      <td>0</td>\n",
       "      <td>0</td>\n",
       "      <td>0</td>\n",
       "      <td>0</td>\n",
       "      <td>...</td>\n",
       "      <td>0</td>\n",
       "      <td>0</td>\n",
       "      <td>1</td>\n",
       "      <td>0</td>\n",
       "      <td>0</td>\n",
       "      <td>0</td>\n",
       "      <td>1</td>\n",
       "      <td>0</td>\n",
       "      <td>0</td>\n",
       "      <td>0</td>\n",
       "    </tr>\n",
       "    <tr>\n",
       "      <th>1</th>\n",
       "      <td>2</td>\n",
       "      <td>0</td>\n",
       "      <td>0</td>\n",
       "      <td>0</td>\n",
       "      <td>1</td>\n",
       "      <td>0</td>\n",
       "      <td>0</td>\n",
       "      <td>0</td>\n",
       "      <td>0</td>\n",
       "      <td>0</td>\n",
       "      <td>...</td>\n",
       "      <td>0</td>\n",
       "      <td>0</td>\n",
       "      <td>0</td>\n",
       "      <td>0</td>\n",
       "      <td>0</td>\n",
       "      <td>0</td>\n",
       "      <td>0</td>\n",
       "      <td>0</td>\n",
       "      <td>1</td>\n",
       "      <td>0</td>\n",
       "    </tr>\n",
       "    <tr>\n",
       "      <th>2</th>\n",
       "      <td>1</td>\n",
       "      <td>0</td>\n",
       "      <td>0</td>\n",
       "      <td>0</td>\n",
       "      <td>1</td>\n",
       "      <td>0</td>\n",
       "      <td>0</td>\n",
       "      <td>0</td>\n",
       "      <td>0</td>\n",
       "      <td>0</td>\n",
       "      <td>...</td>\n",
       "      <td>0</td>\n",
       "      <td>0</td>\n",
       "      <td>1</td>\n",
       "      <td>0</td>\n",
       "      <td>0</td>\n",
       "      <td>1</td>\n",
       "      <td>0</td>\n",
       "      <td>0</td>\n",
       "      <td>0</td>\n",
       "      <td>0</td>\n",
       "    </tr>\n",
       "    <tr>\n",
       "      <th>5</th>\n",
       "      <td>2</td>\n",
       "      <td>0</td>\n",
       "      <td>1</td>\n",
       "      <td>0</td>\n",
       "      <td>0</td>\n",
       "      <td>0</td>\n",
       "      <td>0</td>\n",
       "      <td>0</td>\n",
       "      <td>0</td>\n",
       "      <td>0</td>\n",
       "      <td>...</td>\n",
       "      <td>0</td>\n",
       "      <td>0</td>\n",
       "      <td>1</td>\n",
       "      <td>0</td>\n",
       "      <td>0</td>\n",
       "      <td>1</td>\n",
       "      <td>0</td>\n",
       "      <td>0</td>\n",
       "      <td>0</td>\n",
       "      <td>0</td>\n",
       "    </tr>\n",
       "    <tr>\n",
       "      <th>6</th>\n",
       "      <td>1</td>\n",
       "      <td>0</td>\n",
       "      <td>1</td>\n",
       "      <td>0</td>\n",
       "      <td>0</td>\n",
       "      <td>0</td>\n",
       "      <td>0</td>\n",
       "      <td>0</td>\n",
       "      <td>0</td>\n",
       "      <td>0</td>\n",
       "      <td>...</td>\n",
       "      <td>0</td>\n",
       "      <td>0</td>\n",
       "      <td>1</td>\n",
       "      <td>0</td>\n",
       "      <td>0</td>\n",
       "      <td>1</td>\n",
       "      <td>0</td>\n",
       "      <td>0</td>\n",
       "      <td>0</td>\n",
       "      <td>0</td>\n",
       "    </tr>\n",
       "  </tbody>\n",
       "</table>\n",
       "<p>5 rows × 30 columns</p>\n",
       "</div>"
      ],
      "text/plain": [
       "   SEVERITYCODE  Blowing Sand/Dirt  Clear  Fog/Smog/Smoke  Overcast  \\\n",
       "0             2                  0      1               0         0   \n",
       "1             2                  0      0               0         1   \n",
       "2             1                  0      0               0         1   \n",
       "5             2                  0      1               0         0   \n",
       "6             1                  0      1               0         0   \n",
       "\n",
       "   Partly Cloudy  Raining  Severe Crosswind  Sleet/Hail/Freezing Rain  \\\n",
       "0              0        0                 0                         0   \n",
       "1              0        0                 0                         0   \n",
       "2              0        0                 0                         0   \n",
       "5              0        0                 0                         0   \n",
       "6              0        0                 0                         0   \n",
       "\n",
       "   Snowing  ...  Dark - Unknown Lighting  Dawn  Daylight  Dusk  \\\n",
       "0        0  ...                        0     0         1     0   \n",
       "1        0  ...                        0     0         0     0   \n",
       "2        0  ...                        0     0         1     0   \n",
       "5        0  ...                        0     0         1     0   \n",
       "6        0  ...                        0     0         1     0   \n",
       "\n",
       "   At Intersection (but not related to intersection)  \\\n",
       "0                                                  0   \n",
       "1                                                  0   \n",
       "2                                                  0   \n",
       "5                                                  0   \n",
       "6                                                  0   \n",
       "\n",
       "   At Intersection (intersection related)  Driveway Junction  \\\n",
       "0                                       0                  1   \n",
       "1                                       0                  0   \n",
       "2                                       1                  0   \n",
       "5                                       1                  0   \n",
       "6                                       1                  0   \n",
       "\n",
       "   Mid-Block (but intersection related)  \\\n",
       "0                                     0   \n",
       "1                                     0   \n",
       "2                                     0   \n",
       "5                                     0   \n",
       "6                                     0   \n",
       "\n",
       "   Mid-Block (not related to intersection)  Ramp Junction  \n",
       "0                                        0              0  \n",
       "1                                        1              0  \n",
       "2                                        0              0  \n",
       "5                                        0              0  \n",
       "6                                        0              0  \n",
       "\n",
       "[5 rows x 30 columns]"
      ]
     },
     "execution_count": 124,
     "metadata": {},
     "output_type": "execute_result"
    }
   ],
   "source": [
    "Feature=Accid_df[['SEVERITYCODE']]\n",
    "Feature=pd.concat([Feature,pd.get_dummies(Accid_df['WEATHER'])],axis=1)\n",
    "Feature=pd.concat([Feature,pd.get_dummies(Accid_df['ROADCOND'])],axis=1)\n",
    "Feature=pd.concat([Feature,pd.get_dummies(Accid_df['LIGHTCOND'])],axis=1)\n",
    "Feature=pd.concat([Feature,pd.get_dummies(Accid_df['JUNCTIONTYPE'])],axis=1)\n",
    "Feature.head()"
   ]
  },
  {
   "cell_type": "markdown",
   "metadata": {},
   "source": [
    "### Using Down-Sampling techinque to balance the data"
   ]
  },
  {
   "cell_type": "code",
   "execution_count": 125,
   "metadata": {
    "scrolled": true
   },
   "outputs": [
    {
     "name": "stdout",
     "output_type": "stream",
     "text": [
      "2    59008\n",
      "1    59008\n",
      "Name: SEVERITYCODE, dtype: int64\n"
     ]
    }
   ],
   "source": [
    "count_majority, count_minority = Feature['SEVERITYCODE'].value_counts()\n",
    "majority_class=Feature[Feature['SEVERITYCODE']==1]\n",
    "minority_class=Feature[Feature['SEVERITYCODE']==2]\n",
    "df_class_under=majority_class.sample(count_minority)\n",
    "df_balanced_under=pd.concat([minority_class,df_class_under],axis=0)\n",
    "print(df_balanced_under['SEVERITYCODE'].value_counts())\n"
   ]
  },
  {
   "cell_type": "markdown",
   "metadata": {},
   "source": [
    "### Defining the array for implementing algorithms"
   ]
  },
  {
   "cell_type": "code",
   "execution_count": 126,
   "metadata": {},
   "outputs": [
    {
     "data": {
      "text/plain": [
       "array([[0, 1, 0, 0, 0, 0, 0, 0, 0, 1, 0, 0, 0, 0, 0, 0, 0, 0, 0, 0, 0, 1,\n",
       "        0, 0, 0, 1, 0, 0, 0],\n",
       "       [0, 0, 0, 1, 0, 0, 0, 0, 0, 1, 0, 0, 0, 0, 0, 0, 0, 0, 1, 0, 0, 0,\n",
       "        0, 0, 0, 0, 0, 1, 0],\n",
       "       [0, 1, 0, 0, 0, 0, 0, 0, 0, 1, 0, 0, 0, 0, 0, 0, 0, 0, 0, 0, 0, 1,\n",
       "        0, 0, 1, 0, 0, 0, 0],\n",
       "       [0, 0, 0, 0, 0, 1, 0, 0, 0, 0, 0, 0, 0, 0, 0, 1, 0, 0, 1, 0, 0, 0,\n",
       "        0, 0, 1, 0, 0, 0, 0],\n",
       "       [0, 0, 0, 0, 0, 1, 0, 0, 0, 0, 0, 0, 0, 0, 0, 1, 0, 0, 1, 0, 0, 0,\n",
       "        0, 0, 0, 0, 0, 1, 0]], dtype=uint8)"
      ]
     },
     "execution_count": 126,
     "metadata": {},
     "output_type": "execute_result"
    }
   ],
   "source": [
    "df_balanced_under_mod=df_balanced_under.drop('SEVERITYCODE',axis=1)\n",
    "X=np.asarray(df_balanced_under_mod)\n",
    "X[:5]"
   ]
  },
  {
   "cell_type": "code",
   "execution_count": 127,
   "metadata": {
    "scrolled": true
   },
   "outputs": [
    {
     "data": {
      "text/plain": [
       "array([2, 2, 2, 2, 2], dtype=int64)"
      ]
     },
     "execution_count": 127,
     "metadata": {},
     "output_type": "execute_result"
    }
   ],
   "source": [
    "y=np.asarray(df_balanced_under['SEVERITYCODE'])\n",
    "y[:5]"
   ]
  },
  {
   "cell_type": "markdown",
   "metadata": {},
   "source": [
    "### Standardizing the data"
   ]
  },
  {
   "cell_type": "code",
   "execution_count": 128,
   "metadata": {
    "scrolled": true
   },
   "outputs": [
    {
     "data": {
      "text/plain": [
       "array([[-0.01594577,  0.74859716, -0.0570604 , -0.43212789, -0.00650914,\n",
       "        -0.48944836, -0.01127464, -0.02178846, -0.06633278,  0.6307115 ,\n",
       "        -0.07595793, -0.01770918, -0.01931243, -0.06581532, -0.02453519,\n",
       "        -0.61318109, -0.08785845, -0.07943489, -0.6120169 , -0.01008422,\n",
       "        -0.1217211 ,  0.70877011, -0.1854543 , -0.10342396, -0.79373183,\n",
       "         4.02286708, -0.3758092 , -0.85107069, -0.02998317],\n",
       "       [-0.01594577, -1.33583194, -0.0570604 ,  2.31412976, -0.00650914,\n",
       "        -0.48944836, -0.01127464, -0.02178846, -0.06633278,  0.6307115 ,\n",
       "        -0.07595793, -0.01770918, -0.01931243, -0.06581532, -0.02453519,\n",
       "        -0.61318109, -0.08785845, -0.07943489,  1.63394181, -0.01008422,\n",
       "        -0.1217211 , -1.41089471, -0.1854543 , -0.10342396, -0.79373183,\n",
       "        -0.24857893, -0.3758092 ,  1.17499053, -0.02998317],\n",
       "       [-0.01594577,  0.74859716, -0.0570604 , -0.43212789, -0.00650914,\n",
       "        -0.48944836, -0.01127464, -0.02178846, -0.06633278,  0.6307115 ,\n",
       "        -0.07595793, -0.01770918, -0.01931243, -0.06581532, -0.02453519,\n",
       "        -0.61318109, -0.08785845, -0.07943489, -0.6120169 , -0.01008422,\n",
       "        -0.1217211 ,  0.70877011, -0.1854543 , -0.10342396,  1.25987136,\n",
       "        -0.24857893, -0.3758092 , -0.85107069, -0.02998317],\n",
       "       [-0.01594577, -1.33583194, -0.0570604 , -0.43212789, -0.00650914,\n",
       "         2.04311644, -0.01127464, -0.02178846, -0.06633278, -1.58551098,\n",
       "        -0.07595793, -0.01770918, -0.01931243, -0.06581532, -0.02453519,\n",
       "         1.6308396 , -0.08785845, -0.07943489,  1.63394181, -0.01008422,\n",
       "        -0.1217211 , -1.41089471, -0.1854543 , -0.10342396,  1.25987136,\n",
       "        -0.24857893, -0.3758092 , -0.85107069, -0.02998317],\n",
       "       [-0.01594577, -1.33583194, -0.0570604 , -0.43212789, -0.00650914,\n",
       "         2.04311644, -0.01127464, -0.02178846, -0.06633278, -1.58551098,\n",
       "        -0.07595793, -0.01770918, -0.01931243, -0.06581532, -0.02453519,\n",
       "         1.6308396 , -0.08785845, -0.07943489,  1.63394181, -0.01008422,\n",
       "        -0.1217211 , -1.41089471, -0.1854543 , -0.10342396, -0.79373183,\n",
       "        -0.24857893, -0.3758092 ,  1.17499053, -0.02998317]])"
      ]
     },
     "execution_count": 128,
     "metadata": {},
     "output_type": "execute_result"
    }
   ],
   "source": [
    "X1=preprocessing.StandardScaler().fit(X).transform(X)\n",
    "X1[:5]"
   ]
  },
  {
   "cell_type": "markdown",
   "metadata": {},
   "source": [
    "### Performing train and test split"
   ]
  },
  {
   "cell_type": "code",
   "execution_count": 138,
   "metadata": {},
   "outputs": [],
   "source": [
    "X_train,X_test,y_train,y_test= train_test_split(X,y,test_size=0.3, random_state=3)\n",
    "X1_train, X1_test, y1_train, y1_test = train_test_split(X1,y,test_size=0.2, random_state=4)"
   ]
  },
  {
   "cell_type": "markdown",
   "metadata": {},
   "source": [
    "### Using Logistic Regression as modeling algorithm"
   ]
  },
  {
   "cell_type": "code",
   "execution_count": 130,
   "metadata": {},
   "outputs": [
    {
     "data": {
      "text/plain": [
       "LogisticRegression(C=0.01, class_weight=None, dual=False, fit_intercept=True,\n",
       "                   intercept_scaling=1, l1_ratio=None, max_iter=100,\n",
       "                   multi_class='auto', n_jobs=None, penalty='l2',\n",
       "                   random_state=None, solver='liblinear', tol=0.0001, verbose=0,\n",
       "                   warm_start=False)"
      ]
     },
     "execution_count": 130,
     "metadata": {},
     "output_type": "execute_result"
    }
   ],
   "source": [
    "logreg=LogisticRegression(C=0.01, solver=\"liblinear\").fit(X1_train,y1_train)\n",
    "logreg"
   ]
  },
  {
   "cell_type": "code",
   "execution_count": 131,
   "metadata": {
    "scrolled": true
   },
   "outputs": [
    {
     "data": {
      "text/plain": [
       "array([1, 1, 2, 1, 1], dtype=int64)"
      ]
     },
     "execution_count": 131,
     "metadata": {},
     "output_type": "execute_result"
    }
   ],
   "source": [
    "y_hat=logreg.predict(X1_test)\n",
    "y_hat[:5]"
   ]
  },
  {
   "cell_type": "markdown",
   "metadata": {},
   "source": [
    "### Performing accuracy measuring techniques"
   ]
  },
  {
   "cell_type": "code",
   "execution_count": 132,
   "metadata": {},
   "outputs": [
    {
     "name": "stderr",
     "output_type": "stream",
     "text": [
      "C:\\Users\\sarfaraz.nawaz\\Anaconda3\\lib\\site-packages\\sklearn\\metrics\\_classification.py:664: FutureWarning: jaccard_similarity_score has been deprecated and replaced with jaccard_score. It will be removed in version 0.23. This implementation has surprising behavior for binary and multiclass classification tasks.\n",
      "  FutureWarning)\n"
     ]
    },
    {
     "data": {
      "text/plain": [
       "0.5853245212675817"
      ]
     },
     "execution_count": 132,
     "metadata": {},
     "output_type": "execute_result"
    }
   ],
   "source": [
    "jaccard_similarity_score(y1_test, y_hat)"
   ]
  },
  {
   "cell_type": "code",
   "execution_count": 133,
   "metadata": {},
   "outputs": [
    {
     "data": {
      "text/plain": [
       "0.6192921042395956"
      ]
     },
     "execution_count": 133,
     "metadata": {},
     "output_type": "execute_result"
    }
   ],
   "source": [
    "f1_score(y1_test,y_hat)"
   ]
  },
  {
   "cell_type": "code",
   "execution_count": 134,
   "metadata": {},
   "outputs": [
    {
     "data": {
      "text/plain": [
       "0.5853245212675817"
      ]
     },
     "execution_count": 134,
     "metadata": {},
     "output_type": "execute_result"
    }
   ],
   "source": [
    "accuracy_score(y1_test,y_hat)"
   ]
  },
  {
   "cell_type": "code",
   "execution_count": 135,
   "metadata": {
    "scrolled": true
   },
   "outputs": [
    {
     "data": {
      "text/plain": [
       "array([[7961, 3871],\n",
       "       [5917, 5855]], dtype=int64)"
      ]
     },
     "execution_count": 135,
     "metadata": {},
     "output_type": "execute_result"
    }
   ],
   "source": [
    "cnfn_metrics=metrics.confusion_matrix(y1_test,y_hat)\n",
    "cnfn_metrics\n",
    "\n"
   ]
  },
  {
   "cell_type": "markdown",
   "metadata": {},
   "source": [
    "### Using Decision tree algorithm"
   ]
  },
  {
   "cell_type": "code",
   "execution_count": 144,
   "metadata": {},
   "outputs": [],
   "source": [
    "dec_tree=DecisionTreeClassifier().fit(X_train,y_train)\n",
    "y_hat1=dec_tree.predict(X_test)"
   ]
  },
  {
   "cell_type": "markdown",
   "metadata": {},
   "source": [
    "### Accuracy measurements"
   ]
  },
  {
   "cell_type": "code",
   "execution_count": 145,
   "metadata": {},
   "outputs": [
    {
     "name": "stderr",
     "output_type": "stream",
     "text": [
      "C:\\Users\\sarfaraz.nawaz\\Anaconda3\\lib\\site-packages\\sklearn\\metrics\\_classification.py:664: FutureWarning: jaccard_similarity_score has been deprecated and replaced with jaccard_score. It will be removed in version 0.23. This implementation has surprising behavior for binary and multiclass classification tasks.\n",
      "  FutureWarning)\n"
     ]
    },
    {
     "data": {
      "text/plain": [
       "0.5864143482558961"
      ]
     },
     "execution_count": 145,
     "metadata": {},
     "output_type": "execute_result"
    }
   ],
   "source": [
    "jaccard_similarity_score(y_test, y_hat1)"
   ]
  },
  {
   "cell_type": "code",
   "execution_count": 146,
   "metadata": {},
   "outputs": [
    {
     "data": {
      "text/plain": [
       "0.5970444976471561"
      ]
     },
     "execution_count": 146,
     "metadata": {},
     "output_type": "execute_result"
    }
   ],
   "source": [
    "f1_score(y_test,y_hat1)"
   ]
  },
  {
   "cell_type": "code",
   "execution_count": 147,
   "metadata": {},
   "outputs": [
    {
     "data": {
      "text/plain": [
       "0.5864143482558961"
      ]
     },
     "execution_count": 147,
     "metadata": {},
     "output_type": "execute_result"
    }
   ],
   "source": [
    "accuracy_score(y_test,y_hat1)"
   ]
  },
  {
   "cell_type": "code",
   "execution_count": 148,
   "metadata": {},
   "outputs": [
    {
     "data": {
      "text/plain": [
       "array([[10848,  6730],\n",
       "       [ 7913,  9914]], dtype=int64)"
      ]
     },
     "execution_count": 148,
     "metadata": {},
     "output_type": "execute_result"
    }
   ],
   "source": [
    "cnfn_metrics=metrics.confusion_matrix(y_test,y_hat1)\n",
    "cnfn_metrics"
   ]
  },
  {
   "cell_type": "code",
   "execution_count": null,
   "metadata": {},
   "outputs": [],
   "source": []
  }
 ],
 "metadata": {
  "kernelspec": {
   "display_name": "Python 3",
   "language": "python",
   "name": "python3"
  },
  "language_info": {
   "codemirror_mode": {
    "name": "ipython",
    "version": 3
   },
   "file_extension": ".py",
   "mimetype": "text/x-python",
   "name": "python",
   "nbconvert_exporter": "python",
   "pygments_lexer": "ipython3",
   "version": "3.7.6"
  }
 },
 "nbformat": 4,
 "nbformat_minor": 4
}
